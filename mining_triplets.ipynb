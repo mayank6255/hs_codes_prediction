{
 "cells": [
  {
   "cell_type": "code",
   "execution_count": 3,
   "id": "e61cb7a6-1c73-45f0-888e-492f8096e84d",
   "metadata": {},
   "outputs": [],
   "source": [
    "import pandas as pd\n",
    "import numpy as np\n",
    "import matplotlib.pyplot as plt\n",
    "import seaborn as sns\n",
    "import os\n",
    "import random\n",
    "import sys\n",
    "import warnings\n",
    "import json\n",
    "from tqdm import tqdm\n",
    "\n",
    "warnings.filterwarnings(\"ignore\")\n",
    "\n",
    "\n",
    "class TripletMiner:\n",
    "    def __init__(self, dataframe):\n",
    "        self.df = dataframe\n",
    "        self.triplets = []\n",
    "\n",
    "    def make_triplets(self):\n",
    "        groups = self.df.groupby(\"parent\")\n",
    "        for name, group in groups:\n",
    "            positives = group.to_dict(\"records\")\n",
    "            negatives = self.df[self.df[\"parent\"] != name]\n",
    "            negatives = negatives.to_dict(\"records\")\n",
    "            for i, anchor in enumerate(positives):\n",
    "                for j in range(i + 1, len(positives)):\n",
    "                    positive = positives[j]\n",
    "                    for negative in negatives:\n",
    "                        if positive[\"description\"] != anchor[\"description\"]:\n",
    "                            self.triplets.append(\n",
    "                                (\n",
    "                                    anchor[\"description\"],\n",
    "                                    positive[\"description\"],\n",
    "                                    negative[\"description\"],\n",
    "                                )\n",
    "                            )\n",
    "\n",
    "    def save_triplets(self, filepath):\n",
    "        random.shuffle(self.triplets)\n",
    "        with open(filepath, \"w\") as outfile:\n",
    "            for entry in tqdm(self.triplets):\n",
    "                json.dump(entry, outfile)\n",
    "                outfile.write(\"\\n\")\n"
   ]
  },
  {
   "cell_type": "code",
   "execution_count": 5,
   "id": "be3462d0-4243-4e30-b8bc-a2041ba86c4b",
   "metadata": {},
   "outputs": [
    {
     "name": "stderr",
     "output_type": "stream",
     "text": [
      "100%|██████████| 5952598/5952598 [03:47<00:00, 26135.45it/s] \n"
     ]
    }
   ],
   "source": [
    "df = pd.read_csv(\"data/harmonized-system.csv\")\n",
    "df_lv6 = df[df[\"level\"] == 6]\n",
    "df_lv6.reset_index(drop=True, inplace=True)\n",
    "\n",
    "triplet_miner = TripletMiner(df_lv6.head(1000))\n",
    "triplet_miner.make_triplets()\n",
    "triplet_miner.save_triplets(\"data/triplets.jsonl\")"
   ]
  },
  {
   "cell_type": "code",
   "execution_count": null,
   "id": "bd4e3f59-e015-4882-b9f1-f50591a5b1d3",
   "metadata": {},
   "outputs": [],
   "source": []
  }
 ],
 "metadata": {
  "kernelspec": {
   "display_name": "Python 3",
   "language": "python",
   "name": "python3"
  },
  "language_info": {
   "codemirror_mode": {
    "name": "ipython",
    "version": 3
   },
   "file_extension": ".py",
   "mimetype": "text/x-python",
   "name": "python",
   "nbconvert_exporter": "python",
   "pygments_lexer": "ipython3",
   "version": "3.10.6"
  },
  "vscode": {
   "interpreter": {
    "hash": "916dbcbb3f70747c44a77c7bcd40155683ae19c65e1c03b4aa3499c5328201f1"
   }
  }
 },
 "nbformat": 4,
 "nbformat_minor": 5
}
