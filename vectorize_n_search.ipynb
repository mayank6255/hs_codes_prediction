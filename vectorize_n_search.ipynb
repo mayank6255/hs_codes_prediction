{
 "cells": [
  {
   "cell_type": "code",
   "execution_count": 57,
   "id": "b2abf251-0624-4233-a6cb-3794ed1d8cfe",
   "metadata": {},
   "outputs": [],
   "source": [
    "import pandas as pd\n",
    "import numpy as np\n",
    "from sklearn.metrics.pairwise import cosine_similarity\n",
    "from sentence_transformers import LoggingHandler, SentenceTransformer\n",
    "\n",
    "class VectorizeDatabase:\n",
    "    def __init__(self, dataframe, model):\n",
    "        self.df = dataframe\n",
    "        self.model = model\n",
    "        self.database = []\n",
    "\n",
    "    def vectorize_database(self):\n",
    "        df_lv6 = self.df[self.df['level']==6]\n",
    "        df_lv6.reset_index(drop=True, inplace=True)\n",
    "        embeddings = [self.model.encode(embed) for embed in df_lv6['description'].tolist()]\n",
    "        self.database = list(zip(embeddings, df_lv6['hscode'].tolist()))\n",
    "        return self.database"
   ]
  },
  {
   "cell_type": "code",
   "execution_count": 58,
   "id": "ecc37b04-c12c-4583-a21c-8fae8bdf25e7",
   "metadata": {},
   "outputs": [],
   "source": [
    "model = SentenceTransformer('mini_lm_5M')\n",
    "df = pd.read_csv('data/harmonized-system.csv')\n",
    "df_lv6 = df[df['level']==6]\n",
    "vectorize_database = VectorizeDatabase(df, model)\n",
    "database = vectorize_database.vectorize_database()"
   ]
  },
  {
   "cell_type": "code",
   "execution_count": 83,
   "id": "21f0eb47-2a43-42ac-93b1-381124c19048",
   "metadata": {},
   "outputs": [],
   "source": [
    "import pickle\n",
    "with open('vectorized_data.pkl', 'wb') as f:\n",
    "       pickle.dump(database, f)"
   ]
  },
  {
   "cell_type": "code",
   "execution_count": 59,
   "id": "039224f3-aeb6-4ade-8d00-5f6165199c68",
   "metadata": {},
   "outputs": [],
   "source": [
    "class SimilaritySearch:\n",
    "    def __init__(self, database, model):\n",
    "        self.database = database\n",
    "        self.model = model\n",
    "        self.target_embedding = None\n",
    "        self.similarity_scores = None\n",
    "        self.top_indices = None\n",
    "\n",
    "    def search(self, target_text):\n",
    "        self.target_embedding = self.model.encode(target_text)\n",
    "        self.similarity_scores = [cosine_similarity([embedding[0] for embedding in self.database], self.target_embedding.reshape(1,-1))]\n",
    "        self.top_indices = np.argsort([sim[0] for sim in self.similarity_scores[0]])[::-1]"
   ]
  },
  {
   "cell_type": "code",
   "execution_count": 81,
   "id": "55437d94-e983-494c-87bb-4e17829169a2",
   "metadata": {},
   "outputs": [
    {
     "name": "stdout",
     "output_type": "stream",
     "text": [
      "['910211', '910219', '911019', '910212', '910119']\n"
     ]
    }
   ],
   "source": [
    "similarity_search = SimilaritySearch(database, model)\n",
    "similarity_search.search('')\n",
    "\n",
    "#print(similarity_search.top_indices)\n",
    "\n",
    "top_index = similarity_search.top_indices[0:5]\n",
    "print(df_lv6.iloc[top_index]['hscode'].tolist())"
   ]
  },
  {
   "cell_type": "code",
   "execution_count": 82,
   "id": "ef1bf3a3-f5e7-479f-a1e3-6a592147859a",
   "metadata": {},
   "outputs": [
    {
     "data": {
      "text/plain": [
       "['Wrist-watches; electrically operated, with or without a stop-watch, (other than those of heading no. 9101) with mechanical display only',\n",
       " 'Wrist-watches; electrically operated, with or without a stop-watch, (other than those of heading no. 9101) without mechanical or opto-electronic display',\n",
       " 'Watches; rough movements',\n",
       " 'Wrist-watches; electrically operated, with or without a stop-watch, (other than those of heading no. 9101) with opto-electronic display only',\n",
       " 'Wrist-watches; electrically operated, with or without a stop-watch, with case of precious metal or metal clad with precious metal, without mechanical display']"
      ]
     },
     "execution_count": 82,
     "metadata": {},
     "output_type": "execute_result"
    }
   ],
   "source": [
    "df_lv6.iloc[top_index]['description'].tolist()"
   ]
  },
  {
   "cell_type": "code",
   "execution_count": null,
   "id": "a6699e98-7895-411f-be45-e082879cc9fb",
   "metadata": {},
   "outputs": [],
   "source": []
  }
 ],
 "metadata": {
  "kernelspec": {
   "display_name": "Python 3 (ipykernel)",
   "language": "python",
   "name": "python3"
  },
  "language_info": {
   "codemirror_mode": {
    "name": "ipython",
    "version": 3
   },
   "file_extension": ".py",
   "mimetype": "text/x-python",
   "name": "python",
   "nbconvert_exporter": "python",
   "pygments_lexer": "ipython3",
   "version": "3.9.13"
  }
 },
 "nbformat": 4,
 "nbformat_minor": 5
}
