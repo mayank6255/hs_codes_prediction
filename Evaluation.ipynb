{
 "cells": [
  {
   "cell_type": "code",
   "execution_count": 9,
   "id": "6329e367-dcbf-414c-9547-f674a8fc6692",
   "metadata": {},
   "outputs": [],
   "source": [
    "import pandas as pd\n",
    "import numpy as np\n",
    "import pickle\n",
    "from sklearn.metrics.pairwise import cosine_similarity\n",
    "import math\n",
    "from sentence_transformers import LoggingHandler, SentenceTransformer"
   ]
  },
  {
   "cell_type": "code",
   "execution_count": 53,
   "id": "93d07e94-4d90-43d4-9f0e-6c14a06b8ab6",
   "metadata": {},
   "outputs": [],
   "source": [
    "eval_data = [ ['Soybeans', '120190'],\n",
    "['Cell phones', '851713'],\n",
    "['Crude oil', '270900'],\n",
    "['Pharmaceuticals waste', '300692'],\n",
    "['Solar cell panels', '854143'],\n",
    "['Cotton', '520100'],\n",
    "['Perfumes', '330300'],\n",
    "['Textile fabrics', '520911'],\n",
    "['Meat of goat', '020450' ],\n",
    "['Room Cooling', '841510'],\n",
    "['badminton shoes', '640411' ],\n",
    "['Leather shoes', '640510']]"
   ]
  },
  {
   "cell_type": "code",
   "execution_count": 48,
   "id": "1e69a318-470b-4f05-9418-626815770cb4",
   "metadata": {},
   "outputs": [],
   "source": [
    "class SimilaritySearch:\n",
    "    def __init__(self, database, model):\n",
    "        self.database = database\n",
    "        self.model = model\n",
    "        self.target_embedding = None\n",
    "        self.similarity_scores = None\n",
    "        self.top_indices = None\n",
    "\n",
    "    def search(self, target_text):\n",
    "        self.target_embedding = self.model.encode(target_text)\n",
    "        self.similarity_scores = [cosine_similarity([embedding[0] for embedding in self.database], self.target_embedding.reshape(1,-1))]\n",
    "        self.top_indices = np.argsort([sim[0] for sim in self.similarity_scores[0]])[::-1]"
   ]
  },
  {
   "cell_type": "code",
   "execution_count": 32,
   "id": "1be583b8-3a89-4fbe-9123-9cc8212afe5c",
   "metadata": {},
   "outputs": [],
   "source": [
    "#vectorizer\n",
    "model = SentenceTransformer('mini_lm_5M')"
   ]
  },
  {
   "cell_type": "code",
   "execution_count": 33,
   "id": "bc68251a-3847-4ce7-af38-12481efdb6f9",
   "metadata": {},
   "outputs": [],
   "source": [
    "with open('vectorized_data.pkl', 'rb') as f:\n",
    "       database = pickle.load(f)"
   ]
  },
  {
   "cell_type": "code",
   "execution_count": 34,
   "id": "e82fea88-1b62-4349-8ed0-fbd6f1d203d6",
   "metadata": {},
   "outputs": [],
   "source": [
    "df = pd.read_csv('data/harmonized-system.csv')\n",
    "df_lv6 = df[df['level']==6]\n",
    "df_lv6.reset_index(drop=True, inplace=True)"
   ]
  },
  {
   "cell_type": "code",
   "execution_count": 54,
   "id": "a671981b-9e55-4e61-86cc-275965159cd8",
   "metadata": {},
   "outputs": [
    {
     "name": "stdout",
     "output_type": "stream",
     "text": [
      "['210310', '120190', '120110', '120810', '150710']\n",
      "['851713', '851714', '851718', '850690', '851769']\n",
      "['270900', '271020', '271390', '150810', '151411']\n",
      "['300692', '382530', '382510', '854911', '854999']\n",
      "['854142', '854143', '854149', '841912', '853720']\n",
      "['520100', '520291', '520300', '520210', '520299']\n",
      "['330300', '330720', '330790', '330730', '330749']\n",
      "['590110', '590310', '590320', '590390', '540720']\n",
      "['020450', '020443', '020430', '020410', '020442']\n",
      "['841850', '841899', '847960', '841582', '841891']\n",
      "['640411', '950659', '640212', '640312', '640590']\n",
      "['640510', '640420', '640320', '640359', '411410']\n"
     ]
    }
   ],
   "source": [
    "top_5 = []\n",
    "for sample in eval_data:\n",
    "    similarity_search = SimilaritySearch(database, model)\n",
    "    similarity_search.search(sample[0])\n",
    "    top_index = similarity_search.top_indices[0:5]\n",
    "    print(df_lv6.iloc[top_index]['hscode'].tolist())\n",
    "    top_5.append(df_lv6.iloc[top_index]['hscode'].tolist())\n",
    "    #print(df_lv6.iloc[top_index]['description'].tolist())\n",
    "    "
   ]
  },
  {
   "cell_type": "code",
   "execution_count": 57,
   "id": "26e7542c-b6c9-4ecd-9d67-4ea40a32ca46",
   "metadata": {},
   "outputs": [
    {
     "data": {
      "text/plain": [
       "[2, 1, 1, 1, 2, 1, 1, 1, 1, 1]"
      ]
     },
     "execution_count": 57,
     "metadata": {},
     "output_type": "execute_result"
    }
   ],
   "source": [
    "ranks = []\n",
    "for i in range(len(eval_data)):\n",
    "    try:\n",
    "        rank = top_5[i].index(eval_data[i][1])+1\n",
    "        ranks.append(rank)\n",
    "    except:\n",
    "        pass\n",
    "    \n",
    "ranks"
   ]
  },
  {
   "cell_type": "code",
   "execution_count": 64,
   "id": "f2667a2f-399b-4b7b-83ee-284a74673fd6",
   "metadata": {},
   "outputs": [
    {
     "name": "stdout",
     "output_type": "stream",
     "text": [
      "The top 5 accuracy of the model is: 83.33333333333334\n"
     ]
    }
   ],
   "source": [
    "top5_accuracy= (len(ranks)/len(eval_data))*100\n",
    "print(\"The top 5 accuracy of the model is:\", top5_accuracy)"
   ]
  }
 ],
 "metadata": {
  "kernelspec": {
   "display_name": "Python 3 (ipykernel)",
   "language": "python",
   "name": "python3"
  },
  "language_info": {
   "codemirror_mode": {
    "name": "ipython",
    "version": 3
   },
   "file_extension": ".py",
   "mimetype": "text/x-python",
   "name": "python",
   "nbconvert_exporter": "python",
   "pygments_lexer": "ipython3",
   "version": "3.9.13"
  }
 },
 "nbformat": 4,
 "nbformat_minor": 5
}
